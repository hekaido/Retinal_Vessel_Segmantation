{
  "cells": [
    {
      "cell_type": "markdown",
      "metadata": {
        "id": "d3p-oMp3tplj"
      },
      "source": [
        "## Подгрузка библиотек\n"
      ]
    },
    {
      "cell_type": "code",
      "execution_count": null,
      "metadata": {
        "colab": {
          "base_uri": "https://localhost:8080/"
        },
        "id": "Gzuv2run9Yxa",
        "outputId": "71e2f174-fa48-48c8-a98f-ff3a3dcdc3a7"
      },
      "outputs": [
        {
          "output_type": "stream",
          "name": "stdout",
          "text": [
            "Looking in indexes: https://pypi.org/simple, https://us-python.pkg.dev/colab-wheels/public/simple/\n",
            "Collecting fiona\n",
            "  Downloading Fiona-1.8.21-cp37-cp37m-manylinux2014_x86_64.whl (16.7 MB)\n",
            "\u001b[K     |████████████████████████████████| 16.7 MB 3.5 MB/s \n",
            "\u001b[?25hRequirement already satisfied: click>=4.0 in /usr/local/lib/python3.7/dist-packages (from fiona) (7.1.2)\n",
            "Collecting cligj>=0.5\n",
            "  Downloading cligj-0.7.2-py3-none-any.whl (7.1 kB)\n",
            "Requirement already satisfied: setuptools in /usr/local/lib/python3.7/dist-packages (from fiona) (57.4.0)\n",
            "Requirement already satisfied: six>=1.7 in /usr/local/lib/python3.7/dist-packages (from fiona) (1.15.0)\n",
            "Collecting click-plugins>=1.0\n",
            "  Downloading click_plugins-1.1.1-py2.py3-none-any.whl (7.5 kB)\n",
            "Requirement already satisfied: certifi in /usr/local/lib/python3.7/dist-packages (from fiona) (2022.6.15)\n",
            "Requirement already satisfied: attrs>=17 in /usr/local/lib/python3.7/dist-packages (from fiona) (22.1.0)\n",
            "Collecting munch\n",
            "  Downloading munch-2.5.0-py2.py3-none-any.whl (10 kB)\n",
            "Installing collected packages: munch, cligj, click-plugins, fiona\n",
            "Successfully installed click-plugins-1.1.1 cligj-0.7.2 fiona-1.8.21 munch-2.5.0\n",
            "Looking in indexes: https://pypi.org/simple, https://us-python.pkg.dev/colab-wheels/public/simple/\n",
            "Collecting segmentation_models_pytorch\n",
            "  Downloading segmentation_models_pytorch-0.3.0-py3-none-any.whl (97 kB)\n",
            "\u001b[K     |████████████████████████████████| 97 kB 2.5 MB/s \n",
            "\u001b[?25hCollecting pretrainedmodels==0.7.4\n",
            "  Downloading pretrainedmodels-0.7.4.tar.gz (58 kB)\n",
            "\u001b[K     |████████████████████████████████| 58 kB 3.8 MB/s \n",
            "\u001b[?25hRequirement already satisfied: torchvision>=0.5.0 in /usr/local/lib/python3.7/dist-packages (from segmentation_models_pytorch) (0.13.1+cu113)\n",
            "Collecting efficientnet-pytorch==0.7.1\n",
            "  Downloading efficientnet_pytorch-0.7.1.tar.gz (21 kB)\n",
            "Collecting timm==0.4.12\n",
            "  Downloading timm-0.4.12-py3-none-any.whl (376 kB)\n",
            "\u001b[K     |████████████████████████████████| 376 kB 7.6 MB/s \n",
            "\u001b[?25hRequirement already satisfied: pillow in /usr/local/lib/python3.7/dist-packages (from segmentation_models_pytorch) (7.1.2)\n",
            "Requirement already satisfied: tqdm in /usr/local/lib/python3.7/dist-packages (from segmentation_models_pytorch) (4.64.1)\n",
            "Requirement already satisfied: torch in /usr/local/lib/python3.7/dist-packages (from efficientnet-pytorch==0.7.1->segmentation_models_pytorch) (1.12.1+cu113)\n",
            "Requirement already satisfied: munch in /usr/local/lib/python3.7/dist-packages (from pretrainedmodels==0.7.4->segmentation_models_pytorch) (2.5.0)\n",
            "Requirement already satisfied: typing-extensions in /usr/local/lib/python3.7/dist-packages (from torch->efficientnet-pytorch==0.7.1->segmentation_models_pytorch) (4.1.1)\n",
            "Requirement already satisfied: numpy in /usr/local/lib/python3.7/dist-packages (from torchvision>=0.5.0->segmentation_models_pytorch) (1.21.6)\n",
            "Requirement already satisfied: requests in /usr/local/lib/python3.7/dist-packages (from torchvision>=0.5.0->segmentation_models_pytorch) (2.23.0)\n",
            "Requirement already satisfied: six in /usr/local/lib/python3.7/dist-packages (from munch->pretrainedmodels==0.7.4->segmentation_models_pytorch) (1.15.0)\n",
            "Requirement already satisfied: idna<3,>=2.5 in /usr/local/lib/python3.7/dist-packages (from requests->torchvision>=0.5.0->segmentation_models_pytorch) (2.10)\n",
            "Requirement already satisfied: certifi>=2017.4.17 in /usr/local/lib/python3.7/dist-packages (from requests->torchvision>=0.5.0->segmentation_models_pytorch) (2022.6.15)\n",
            "Requirement already satisfied: urllib3!=1.25.0,!=1.25.1,<1.26,>=1.21.1 in /usr/local/lib/python3.7/dist-packages (from requests->torchvision>=0.5.0->segmentation_models_pytorch) (1.24.3)\n",
            "Requirement already satisfied: chardet<4,>=3.0.2 in /usr/local/lib/python3.7/dist-packages (from requests->torchvision>=0.5.0->segmentation_models_pytorch) (3.0.4)\n",
            "Building wheels for collected packages: efficientnet-pytorch, pretrainedmodels\n",
            "  Building wheel for efficientnet-pytorch (setup.py) ... \u001b[?25l\u001b[?25hdone\n",
            "  Created wheel for efficientnet-pytorch: filename=efficientnet_pytorch-0.7.1-py3-none-any.whl size=16446 sha256=b65c2208a7a3c91071eddad0e491e4d78e278ff5fd67530fad7ffe1f1e591218\n",
            "  Stored in directory: /root/.cache/pip/wheels/0e/cc/b2/49e74588263573ff778da58cc99b9c6349b496636a7e165be6\n",
            "  Building wheel for pretrainedmodels (setup.py) ... \u001b[?25l\u001b[?25hdone\n",
            "  Created wheel for pretrainedmodels: filename=pretrainedmodels-0.7.4-py3-none-any.whl size=60965 sha256=3a5e20c4c91c7a1faa6167467e665ef9476bef8f2a7b326134d87c5c59370c6d\n",
            "  Stored in directory: /root/.cache/pip/wheels/ed/27/e8/9543d42de2740d3544db96aefef63bda3f2c1761b3334f4873\n",
            "Successfully built efficientnet-pytorch pretrainedmodels\n",
            "Installing collected packages: timm, pretrainedmodels, efficientnet-pytorch, segmentation-models-pytorch\n",
            "Successfully installed efficientnet-pytorch-0.7.1 pretrainedmodels-0.7.4 segmentation-models-pytorch-0.3.0 timm-0.4.12\n"
          ]
        }
      ],
      "source": [
        "import albumentations as A\n",
        "from albumentations.pytorch import ToTensorV2\n",
        "\n",
        "import pandas as pd \n",
        "import numpy as np\n",
        "import glob\n",
        "from tqdm import tqdm\n",
        "import cv2\n",
        "from sklearn.model_selection import train_test_split\n",
        "!pip install fiona\n",
        "import fiona\n",
        "!pip install segmentation_models_pytorch\n",
        "import segmentation_models_pytorch as smp\n",
        "\n",
        "import shutil\n",
        "import torch\n",
        "import torch.nn as nn\n",
        "import torch.optim as optim\n",
        "from torch.utils.data import Dataset\n",
        "from torchvision import datasets, models, transforms\n",
        "from torchvision.models import resnet18\n",
        "from torchvision.utils import draw_segmentation_masks\n",
        "\n",
        "from PIL import Image\n",
        "import matplotlib.pyplot as plt\n",
        "from IPython.display import clear_output\n",
        "\n",
        "import warnings\n",
        "warnings.filterwarnings(\"ignore\")\n",
        "\n",
        "import json"
      ]
    },
    {
      "cell_type": "markdown",
      "metadata": {
        "id": "l5MpBxb2MjsO"
      },
      "source": [
        "## Датасет\n"
      ]
    },
    {
      "cell_type": "code",
      "execution_count": null,
      "metadata": {
        "id": "IS7LtxhL8WWh"
      },
      "outputs": [],
      "source": [
        "class EyeDataset(Dataset):\n",
        "    \"\"\"\n",
        "    Класс датасета, организующий загрузку и получение изображений и соответствующих разметок\n",
        "    \"\"\"\n",
        "\n",
        "    def __init__(self, data_folder: str, transform = None):\n",
        "        self.class_ids = {\"vessel\": 1}\n",
        "\n",
        "        self.data_folder = data_folder\n",
        "        self.transform = transform\n",
        "        self._image_files = glob.glob(f\"{data_folder}/*.png\")\n",
        "    @staticmethod\n",
        "    def read_image(path: str) -> np.ndarray:\n",
        "        image = cv2.imread(str(path), cv2.IMREAD_COLOR)\n",
        "        image = cv2.cvtColor(image, cv2.COLOR_BGR2RGB)\n",
        "        image = np.array(image / 255, dtype=np.float32)\n",
        "        return image\n",
        "\n",
        "    @staticmethod \n",
        "    def parse_polygon(coordinates, image_size): \n",
        "        mask = np.zeros(image_size, dtype=np.float32) \n",
        "    \n",
        "        if len(coordinates) == 1: \n",
        "            points = [np.int32(coordinates)] \n",
        "            cv2.fillPoly(mask, points, 1) \n",
        "        else: \n",
        "            points = [np.int32([coordinates[0]])] \n",
        "            cv2.fillPoly(mask, points, 1) \n",
        "    \n",
        "            for polygon in coordinates[1:]: \n",
        "                points = [np.int32([polygon])] \n",
        "                cv2.fillPoly(mask, points, 0) \n",
        "    \n",
        "        return mask\n",
        "\n",
        "    @staticmethod\n",
        "    def parse_mask(shape: dict, image_size: tuple) -> np.ndarray:\n",
        "        \"\"\"\n",
        "        Метод для парсинга фигур из geojson файла\n",
        "        \"\"\"\n",
        "        mask = np.zeros(image_size, dtype=np.float32)\n",
        "        coordinates = shape['coordinates']\n",
        "        if shape['type'] == 'MultiPolygon':\n",
        "            for polygon in coordinates:\n",
        "                mask += EyeDataset.parse_polygon(polygon, image_size)\n",
        "        else:\n",
        "            mask += EyeDataset.parse_polygon(coordinates, image_size)\n",
        "\n",
        "        return mask\n",
        "\n",
        "    def read_layout(self, path: str, image_size: tuple) -> np.ndarray:\n",
        "        \"\"\"\n",
        "        Метод для чтения geojson разметки и перевода в numpy маску\n",
        "        \"\"\"\n",
        "        with open(path, 'r', encoding='cp1251') as f:  # some files contain cyrillic letters, thus cp1251\n",
        "            json_contents = json.load(f)\n",
        "\n",
        "        num_channels = 1 + max(self.class_ids.values())\n",
        "        mask_channels = [np.zeros(image_size, dtype=np.float32) for _ in range(num_channels)]\n",
        "        mask = np.zeros(image_size, dtype=np.float32)\n",
        "\n",
        "        if type(json_contents) == dict and json_contents['type'] == 'FeatureCollection':\n",
        "            features = json_contents['features']\n",
        "        elif type(json_contents) == list:\n",
        "            features = json_contents\n",
        "        else:\n",
        "            features = [json_contents]\n",
        "\n",
        "        for shape in features:\n",
        "            channel_id = self.class_ids[\"vessel\"]\n",
        "            mask = self.parse_mask(shape['geometry'], image_size)\n",
        "            mask_channels[channel_id] = np.maximum(mask_channels[channel_id], mask)\n",
        "\n",
        "        mask_channels[0] = 1 - np.max(mask_channels[1:], axis=0)\n",
        "\n",
        "        return np.stack(mask_channels, axis=-1)\n",
        "\n",
        "    def __getitem__(self, idx: int) -> dict:\n",
        "        # Достаём имя файла по индексу\n",
        "        image_path = self._image_files[idx]\n",
        "\n",
        "        # Получаем соответствующий файл разметки\n",
        "        json_path = image_path.replace(\"png\", \"geojson\")\n",
        "\n",
        "        image = self.read_image(image_path)\n",
        "\n",
        "        mask = self.read_layout(json_path, image.shape[:2])\n",
        "        \n",
        "        sample = {'image': image,\n",
        "                  'mask': mask}\n",
        "\n",
        "        if self.transform is not None:\n",
        "            sample = self.transform(**sample)\n",
        "\n",
        "        return sample\n",
        "\n",
        "    def __len__(self):\n",
        "        return len(self._image_files)\n",
        "\n",
        "    # Метод для проверки состояния датасета\n",
        "    def make_report(self):\n",
        "      reports = []\n",
        "      if (not self.data_folder):\n",
        "        reports.append(\"Путь к датасету не указан\")\n",
        "      if (len(self._image_files) == 0):\n",
        "        reports.append(\"Изображения для распознавания не найдены\")\n",
        "      else:\n",
        "        reports.append(f\"Найдено {len(self._image_files)} изображений\")\n",
        "      cnt_images_without_masks = sum([1 - len(glob.glob(filepath.replace(\"png\", \"geojson\"))) for filepath in self._image_files])\n",
        "      if cnt_images_without_masks > 0:\n",
        "        reports.append(f\"Найдено {cnt_images_without_masks} изображений без разметки\")\n",
        "      else:\n",
        "        reports.append(f\"Для всех изображений есть файл разметки\")\n",
        "      return reports\n",
        "\n",
        "\n",
        "class DatasetPart(Dataset):\n",
        "    \"\"\"\n",
        "    Обертка над классом датасета для его разбиения на части\n",
        "    \"\"\"\n",
        "    def __init__(self, dataset: Dataset,\n",
        "                 indices: np.ndarray,\n",
        "                 transform: A.Compose = None):\n",
        "        self.dataset = dataset\n",
        "        self.indices = indices\n",
        "\n",
        "        self.transform = transform\n",
        "\n",
        "    def __getitem__(self, idx: int) -> dict:\n",
        "        sample = self.dataset[self.indices[idx]]\n",
        "        \n",
        "        if self.transform is not None:\n",
        "            sample = self.transform(**sample)\n",
        "        image=sample['image']\n",
        "        mask=sample['mask']\n",
        "        size=256\n",
        "        cropped_images=np.random.rand((1024*1024)//(size*size),3,size,size)\n",
        "        cropped_masks=np.random.rand((1024*1024)//(size*size),2,size,size)\n",
        "        count=0\n",
        "\n",
        "        for y in range(0,1024, size):\n",
        "          for x in range(0,1024,size):\n",
        "            temp=A.Crop(x_min=x, y_min=y, x_max=x+size, y_max=y+size)(image=image)\n",
        "            cropped_images[count]=temp['image'].T\n",
        "            temp=A.Crop(x_min=x, y_min=y, x_max=x+size, y_max=y+size)(image=mask)\n",
        "            cropped_masks[count]=temp['image'].T\n",
        "            count+=1\n",
        "        sample = {'image': torch.from_numpy(cropped_images).float(),\n",
        "                  'mask': torch.from_numpy(cropped_masks).float()}\n",
        "\n",
        "\n",
        "        return sample\n",
        "        \n",
        "\n",
        "    def __len__(self) -> int:\n",
        "        return len(self.indices)\n"
      ]
    },
    {
      "cell_type": "code",
      "execution_count": null,
      "metadata": {
        "id": "7URcg7KlMqbV"
      },
      "outputs": [],
      "source": [
        "# Задаем преобразование изображений\n",
        "size = 1024\n",
        "train_list = [A.LongestMaxSize(size, interpolation=cv2.INTER_CUBIC),\n",
        "              A.PadIfNeeded(size, size)]\n",
        "eval_list = [A.LongestMaxSize(size, interpolation=cv2.INTER_CUBIC),\n",
        "              A.PadIfNeeded(size, size)]\n",
        "\n",
        "transforms = {'train': A.Compose(train_list), 'test': A.Compose(eval_list)}\n"
      ]
    },
    {
      "cell_type": "code",
      "execution_count": null,
      "metadata": {
        "colab": {
          "base_uri": "https://localhost:8080/"
        },
        "id": "b77ZsEWb6Sr3",
        "outputId": "bd9793a1-e6b3-420d-bae6-b25fc312faf1"
      },
      "outputs": [
        {
          "output_type": "stream",
          "name": "stdout",
          "text": [
            "Mounted at /content/gdrive/\n"
          ]
        }
      ],
      "source": [
        "from google.colab import drive\n",
        "drive.mount('/content/gdrive/')"
      ]
    },
    {
      "cell_type": "code",
      "execution_count": null,
      "metadata": {
        "id": "9w55T2006WEo"
      },
      "outputs": [],
      "source": [
        "!unzip -q /content/gdrive/My\\ Drive/cp_datasets/test_dataset.zip -d test\n",
        "!unzip -q /content/gdrive/My\\ Drive/cp_datasets/train_dataset.zip -d train"
      ]
    },
    {
      "cell_type": "code",
      "execution_count": null,
      "metadata": {
        "id": "5vqgjSAyMwT4"
      },
      "outputs": [],
      "source": [
        "dataset = EyeDataset(\"/content/train\")"
      ]
    },
    {
      "cell_type": "code",
      "execution_count": null,
      "metadata": {
        "id": "Kh4W7Mei7fPG"
      },
      "outputs": [],
      "source": [
        "id=0\n",
        "for filepath in dataset._image_files:\n",
        "  if 1 - len(glob.glob(filepath.replace(\"png\", \"geojson\"))) !=0:\n",
        "    dataset._image_files.pop(id)\n",
        "  id+=1"
      ]
    },
    {
      "cell_type": "code",
      "execution_count": null,
      "metadata": {
        "id": "cRfpg4grVx71"
      },
      "outputs": [],
      "source": [
        "from os import listdir"
      ]
    },
    {
      "cell_type": "code",
      "execution_count": null,
      "metadata": {
        "id": "-glCq25BODdU"
      },
      "outputs": [],
      "source": [
        "train_indices, test_indices = train_test_split(range(len(dataset)), test_size=0.15)\n"
      ]
    },
    {
      "cell_type": "code",
      "execution_count": null,
      "metadata": {
        "id": "zcp0qk5oPode",
        "colab": {
          "base_uri": "https://localhost:8080/"
        },
        "outputId": "2156cf10-1bbc-475a-eb06-38014ed28bb3"
      },
      "outputs": [
        {
          "output_type": "stream",
          "name": "stdout",
          "text": [
            "torch.Size([16, 2, 256, 256]) torch.Size([16, 2, 256, 256])\n"
          ]
        }
      ],
      "source": [
        "train_dataset = DatasetPart(dataset, train_indices, transform=transforms['train'])\n",
        "valid_dataset = DatasetPart(dataset, test_indices, transform=transforms['test'])\n",
        "print(train_dataset[0]['mask'].shape,valid_dataset[0]['mask'].shape) "
      ]
    },
    {
      "cell_type": "code",
      "execution_count": null,
      "metadata": {
        "id": "ukJo2MSwPsWL"
      },
      "outputs": [],
      "source": [
        "train_loader = torch.utils.data.DataLoader(train_dataset, batch_size=1,\n",
        "                                           num_workers=0,\n",
        "                                   shuffle=True, drop_last=True)\n",
        "\n",
        "valid_loader = torch.utils.data.DataLoader(valid_dataset, batch_size=1,\n",
        "                                           num_workers=0,\n",
        "                                   shuffle=True, drop_last=True)"
      ]
    },
    {
      "cell_type": "markdown",
      "metadata": {
        "id": "rlO_9AW_P0ad"
      },
      "source": [
        "## Вспомогательные функции"
      ]
    },
    {
      "cell_type": "code",
      "execution_count": null,
      "metadata": {
        "id": "qu_CF6TIP2ap"
      },
      "outputs": [],
      "source": [
        "def plot_history(train_history, val_history, title='loss'):\n",
        "    plt.figure()\n",
        "    plt.title('{}'.format(title))\n",
        "    plt.plot(train_history, label='train', zorder=1)\n",
        "    \n",
        "    points = np.array(val_history)\n",
        "    steps = list(range(0, len(train_history) + 1, int(len(train_history) / len(val_history))))[1:]\n",
        "    \n",
        "    plt.scatter(steps, val_history, marker='+', s=180, c='orange', label='val', zorder=2)\n",
        "    plt.xlabel('train steps')\n",
        "    \n",
        "    plt.legend(loc='best')\n",
        "    plt.grid()\n",
        "\n",
        "    plt.show()"
      ]
    },
    {
      "cell_type": "code",
      "execution_count": null,
      "metadata": {
        "id": "Ac1V-EjHP8RT"
      },
      "outputs": [],
      "source": [
        "from typing import Tuple, List, Callable, Iterator, Optional, Dict, Any\n",
        "from collections import defaultdict\n",
        "\n",
        "\n",
        "class UnetTrainer:\n",
        "    \"\"\"\n",
        "    Класс, реализующий обучение модели\n",
        "    \"\"\"\n",
        "\n",
        "    def __init__(self, model: nn.Module, optimizer: torch.optim.Optimizer,\n",
        "                 criterion: Callable[[torch.Tensor, torch.Tensor], torch.Tensor],\n",
        "                 device: str, metric_functions: List[Tuple[str, Callable]] = [],\n",
        "                 epoch_number: int = 0,\n",
        "                 lr_scheduler: Optional[Any] = None, PATH):\n",
        "        self.model = model\n",
        "        self.optimizer = optimizer\n",
        "        self.criterion = criterion\n",
        "        self.lr_scheduler = lr_scheduler\n",
        "\n",
        "        self.device = device\n",
        "\n",
        "        self.metric_functions = metric_functions\n",
        "\n",
        "        self.epoch_number = epoch_number\n",
        "\n",
        "        self.PATH=PATH\n",
        "\n",
        "    @torch.no_grad()\n",
        "    def evaluate_batch(self, val_iterator: Iterator, eval_on_n_batches: int) -> Optional[Dict[str, float]]:\n",
        "        predictions = []\n",
        "        targets = []\n",
        "\n",
        "        losses = []\n",
        "\n",
        "        for real_batch_number in range(eval_on_n_batches):\n",
        "            try:\n",
        "                batch = next(val_iterator)\n",
        "\n",
        "                xs = batch['image'][0].to(self.device)\n",
        "                ys_true = batch['mask'][0].to(self.device)\n",
        "            except StopIteration:\n",
        "                if real_batch_number == 0:\n",
        "                    return None\n",
        "                else:\n",
        "                    break\n",
        "            ys_pred = self.model.eval()(xs)\n",
        "            loss = self.criterion(ys_pred, ys_true)\n",
        "\n",
        "            losses.append(loss.item())\n",
        "\n",
        "            predictions.append(ys_pred.cpu())\n",
        "            targets.append(ys_true.cpu())\n",
        "\n",
        "        predictions = torch.cat(predictions, dim=0)\n",
        "        targets = torch.cat(targets, dim=0)\n",
        "\n",
        "        metrics = {'loss': np.mean(losses)}\n",
        "\n",
        "        for metric_name, metric_fn in self.metric_functions:\n",
        "            metrics[metric_name] = metric_fn(predictions, targets).item()\n",
        "\n",
        "        return metrics\n",
        "\n",
        "    @torch.no_grad()\n",
        "    def evaluate(self, val_loader, eval_on_n_batches: int = 1) -> Dict[str, float]:\n",
        "        \"\"\"\n",
        "        Вычисление метрик для эпохи\n",
        "        \"\"\"\n",
        "        metrics_sum = defaultdict(float)\n",
        "        num_batches = 0\n",
        "\n",
        "        val_iterator = iter(val_loader)\n",
        "\n",
        "        while True:\n",
        "            batch_metrics = self.evaluate_batch(val_iterator, eval_on_n_batches)\n",
        "\n",
        "            if batch_metrics is None:\n",
        "                break\n",
        "\n",
        "            for metric_name in batch_metrics:\n",
        "                metrics_sum[metric_name] += batch_metrics[metric_name]\n",
        "\n",
        "            num_batches += 1\n",
        "\n",
        "        metrics = {}\n",
        "\n",
        "        for metric_name in metrics_sum:\n",
        "            metrics[metric_name] = metrics_sum[metric_name] / num_batches\n",
        "\n",
        "        return metrics\n",
        "\n",
        "    def fit_batch(self, train_iterator: Iterator, update_every_n_batches: int) -> Optional[Dict[str, float]]:\n",
        "        \"\"\"\n",
        "        Тренировка модели на одном батче\n",
        "        \"\"\"\n",
        "        self.extra_ind = []\n",
        "        self.optimizer.zero_grad()\n",
        "\n",
        "        predictions = []\n",
        "        targets = []\n",
        "\n",
        "        for real_batch_number in range(update_every_n_batches):\n",
        "            try:\n",
        "                batch = next(train_iterator)\n",
        "\n",
        "                xs = batch['image'][0].to(self.device)\n",
        "                ys_true = batch['mask'][0].to(self.device)\n",
        "            except StopIteration:\n",
        "                if real_batch_number == 0:\n",
        "                    return None\n",
        "                else:\n",
        "                    break\n",
        "\n",
        "            ys_pred = self.model.train()(xs)\n",
        "            pred_rows = []\n",
        "            true_rows = []\n",
        "            size = 256\n",
        "            for min_id in range(0, (1024 * 1024) // (size * size), 1024 // size):\n",
        "                img_row = [torch.as_tensor(i).T for i in ys_pred[min_id: min_id + 1024 // size]]\n",
        "                img_row = torch.hstack(img_row)\n",
        "                pred_rows.append(img_row)\n",
        "                true_row = [torch.as_tensor(i).T for i in ys_true[min_id: min_id + 1024 // size]]\n",
        "                true_row = torch.hstack(true_row)\n",
        "                true_rows.append(true_row)\n",
        "            ys_true = torch.vstack([i for i in true_rows]).T\n",
        "            ys_pred = torch.vstack([i for i in pred_rows]).T\n",
        "\n",
        "            loss = self.criterion(ys_pred, ys_true)\n",
        "            (loss / update_every_n_batches).backward()\n",
        "\n",
        "            self.losses.append(loss.item())\n",
        "\n",
        "            predictions.append(ys_pred.cpu())\n",
        "            targets.append(ys_true.cpu())\n",
        "\n",
        "        self.optimizer.step()\n",
        "\n",
        "        predictions = torch.cat(predictions, dim=0)\n",
        "        targets = torch.cat(targets, dim=0)\n",
        "\n",
        "        metrics = {'loss': np.mean(self.losses)}\n",
        "\n",
        "        for metric_name, metric_fn in self.metric_functions:\n",
        "            metrics[metric_name] = metric_fn(predictions, targets).item()\n",
        "        self.losses=self.losses\n",
        "        return metrics\n",
        "\n",
        "    def fit_epoch(self, train_loader, update_every_n_batches: int = 1) -> Dict[str, float]:\n",
        "        \"\"\"\n",
        "        Одна эпоха тренировки модели\n",
        "        \"\"\"\n",
        "\n",
        "        metrics_sum = defaultdict(float)\n",
        "        num_batches = 0\n",
        "        \n",
        "        train_iterator = iter(train_loader)\n",
        "        self.losses = []\n",
        "        while True:\n",
        "            batch_metrics = self.fit_batch(train_iterator, update_every_n_batches)\n",
        "            if batch_metrics is None:\n",
        "                break\n",
        "\n",
        "            for metric_name in batch_metrics:\n",
        "                metrics_sum[metric_name] += batch_metrics[metric_name]\n",
        "\n",
        "            num_batches += 1\n",
        "        self.losses = np.asarray(self.losses)\n",
        "        \n",
        "        print(self.losses.shape)\n",
        "        for i in range(10):\n",
        "            ind = np.argmin(self.losses)\n",
        "            losses = np.delete(self.losses, ind)\n",
        "            self.extra_ind.append(ind)\n",
        "        extra_train_iterator=iter(train_loader)\n",
        "        self.extra_train(extra_train_iterator)\n",
        "        metrics = {}\n",
        "\n",
        "        for metric_name in metrics_sum:\n",
        "            metrics[metric_name] = metrics_sum[metric_name] / num_batches\n",
        "        return metrics\n",
        "\n",
        "    def fit(self, train_loader, num_epochs: int,\n",
        "            val_loader=None, update_every_n_batches: int = 1,\n",
        "            ) -> Dict[str, np.ndarray]:\n",
        "        \"\"\"\n",
        "        Метод, тренирующий модель и вычисляющий метрики для каждой эпохи\n",
        "        \"\"\"\n",
        "\n",
        "        summary = defaultdict(list)\n",
        "\n",
        "        def save_metrics(metrics: Dict[str, float], postfix: str = '') -> None:\n",
        "            # Сохранение метрик в summary\n",
        "            nonlocal summary, self\n",
        "\n",
        "            for metric in metrics:\n",
        "                metric_name, metric_value = f'{metric}{postfix}', metrics[metric]\n",
        "\n",
        "                summary[metric_name].append(metric_value)\n",
        "\n",
        "        for _ in tqdm(range(num_epochs - self.epoch_number), initial=self.epoch_number, total=num_epochs):\n",
        "            self.epoch_number += 1\n",
        "\n",
        "            train_metrics = self.fit_epoch(train_loader, update_every_n_batches)\n",
        "\n",
        "            with torch.no_grad():\n",
        "                save_metrics(train_metrics, postfix='_train')\n",
        "\n",
        "                if val_loader is not None:\n",
        "                    test_metrics = self.evaluate(val_loader)\n",
        "                    save_metrics(test_metrics, postfix='_test')\n",
        "\n",
        "            if self.lr_scheduler is not None:\n",
        "                self.lr_scheduler.step()\n",
        "\n",
        "        summary = {metric: np.array(summary[metric]) for metric in summary}\n",
        "\n",
        "        return summary\n",
        "\n",
        "    def extra_train(self, train_iterator):\n",
        "        self.model.train()\n",
        "        with tqdm(total=10) as pbar:\n",
        "          for i in range(max(self.extra_ind)):\n",
        "              if i in self.extra_ind:\n",
        "\n",
        "                  batch = next(train_iterator)\n",
        "\n",
        "                  xs = batch['image'][0].to(self.device)\n",
        "                  ys_true = batch['mask'][0].to(self.device)\n",
        "\n",
        "                  ys_pred = self.model.train()(xs)\n",
        "\n",
        "                  pred_rows = []\n",
        "                  true_rows = []\n",
        "                  size = 256\n",
        "                  for min_id in range(0, (1024 * 1024) // (size * size), 1024 // size):\n",
        "                      img_row = [torch.as_tensor(i).T for i in ys_pred[min_id: min_id + 1024 // size]]\n",
        "                      img_row = torch.hstack(img_row)\n",
        "                      pred_rows.append(img_row)\n",
        "                      true_row = [torch.as_tensor(i).T for i in ys_true[min_id: min_id + 1024 // size]]\n",
        "                      true_row = torch.hstack(true_row)\n",
        "                      true_rows.append(true_row)\n",
        "                  ys_true = torch.vstack([i for i in true_rows]).T\n",
        "                  ys_pred = torch.vstack([i for i in pred_rows]).T\n",
        "\n",
        "                  loss = self.criterion(ys_pred, ys_true)\n",
        "\n",
        "                  loss.backward()\n",
        "                  self.optimizer.step()\n",
        "                  pbar.update(1)\n",
        "              else:\n",
        "                  next(train_iterator)\n",
        "\n",
        "        def save_dir(self):\n",
        "          torch.save(self.model, '/content/save_model.pt')\n",
        "          shutil.copy('/content/save_model.pt',self.PATH)\n"
      ]
    },
    {
      "cell_type": "code",
      "execution_count": null,
      "metadata": {
        "id": "Zltdk2x2VTzY"
      },
      "outputs": [],
      "source": [
        "# F1-мера\n",
        "class SoftDice:\n",
        "    def __init__(self, epsilon=1e-8):\n",
        "        self.epsilon = epsilon\n",
        "\n",
        "    def __call__(self, predictions: List[Dict[str, torch.Tensor]],\n",
        "                 targets: List[Dict[str, torch.Tensor]]) -> torch.Tensor:\n",
        "        numerator = torch.sum(2 * predictions * targets)\n",
        "        denominator = torch.sum(predictions + targets)\n",
        "        return numerator / (denominator + self.epsilon)\n",
        "\n",
        "# Метрика полноты\n",
        "class Recall:\n",
        "    def __init__(self, epsilon=1e-81):\n",
        "        self.epsilon = epsilon\n",
        "\n",
        "    def __call__(self, predictions: List[Dict[str, torch.Tensor]],\n",
        "                 targets: List[Dict[str, torch.Tensor]]) -> torch.Tensor:\n",
        "        numerator = torch.sum(predictions * targets)\n",
        "        denominator = torch.sum(targets)\n",
        "\n",
        "        return numerator / (denominator + self.epsilon)\n",
        "\n",
        "# Метрика точности\n",
        "class Accuracy:\n",
        "    def __init__(self, epsilon=1e-8):\n",
        "        self.epsilon = epsilon\n",
        "\n",
        "    def __call__(self, predictions: list, targets: list) -> torch.Tensor:\n",
        "        numerator = torch.sum(predictions * targets)\n",
        "        denominator = torch.sum(predictions)\n",
        "\n",
        "        return numerator / (denominator + self.epsilon)\n",
        "\n",
        "def make_metrics():\n",
        "    soft_dice = SoftDice()\n",
        "    recall = Recall()\n",
        "    accuracy = Accuracy()\n",
        "\n",
        "    def exp_dice(pred, target):\n",
        "        return soft_dice(torch.exp(pred[:, 1:]), target[:, 1:])\n",
        "\n",
        "    def exp_accuracy(pred, target):\n",
        "        return accuracy(torch.exp(pred[:, 1:]), target[:, 1:])\n",
        "\n",
        "    def exp_recall(pred, target):\n",
        "        return recall(torch.exp(pred[:, 1:]), target[:, 1:])\n",
        "\n",
        "    return [('dice', exp_dice),\n",
        "            ('accuracy', exp_accuracy),\n",
        "            ('recall', exp_recall),\n",
        "            ]\n",
        "    "
      ]
    },
    {
      "cell_type": "markdown",
      "metadata": {
        "id": "vtpbyaX-Jyaa"
      },
      "source": [
        "## Обучение модели и сохранение"
      ]
    },
    {
      "cell_type": "code",
      "execution_count": null,
      "metadata": {
        "id": "MysKO_UFJya0",
        "colab": {
          "base_uri": "https://localhost:8080/",
          "height": 66,
          "referenced_widgets": [
            "958d4455fa0c411fbb83bffda4333f7d",
            "a4e07b7435f048b68b1dbf4674293f92",
            "388610b96923490098e6c230d5cc8274",
            "a9a7172a20db4cc284df1600095d1fea",
            "645a800509914fd2b58b8195db1089f9",
            "bd97e29882374490b2a13ef6ffc8ce6e",
            "8e2c0c404fb24afe94ea81f0f6f9de78",
            "95a347f173e94856baa5fb334bb1dc72",
            "5172b20c5ea44299aad4f4f4d945d84d",
            "470a3b5d046e45a1afe82c95be645107",
            "40772dceee894426ac1087a78fa65aab"
          ]
        },
        "outputId": "fecda24d-eeaa-4fef-d438-b80922b19d1c"
      },
      "outputs": [
        {
          "output_type": "stream",
          "name": "stderr",
          "text": [
            "Downloading: \"https://download.pytorch.org/models/resnet152-b121ed2d.pth\" to /root/.cache/torch/hub/checkpoints/resnet152-b121ed2d.pth\n"
          ]
        },
        {
          "output_type": "display_data",
          "data": {
            "text/plain": [
              "  0%|          | 0.00/230M [00:00<?, ?B/s]"
            ],
            "application/vnd.jupyter.widget-view+json": {
              "version_major": 2,
              "version_minor": 0,
              "model_id": "958d4455fa0c411fbb83bffda4333f7d"
            }
          },
          "metadata": {}
        }
      ],
      "source": [
        "model = smp.UnetPlusPlus(encoder_name='resnet152', encoder_weights='imagenet' , activation='logsoftmax', classes=2).cuda()"
      ]
    },
    {
      "cell_type": "code",
      "execution_count": null,
      "metadata": {
        "id": "4IdJYpgGJya1"
      },
      "outputs": [],
      "source": [
        "def make_criterion():\n",
        "    soft_dice = SoftDice()\n",
        "\n",
        "    def exp_dice(pred, target):\n",
        "        return 1 - soft_dice(torch.exp(pred[:, 1:]), target[:, 1:])\n",
        "\n",
        "    return exp_dice\n",
        "\n",
        "criterion = make_criterion()"
      ]
    },
    {
      "cell_type": "code",
      "execution_count": null,
      "metadata": {
        "id": "UwV1L9mnJya1"
      },
      "outputs": [],
      "source": [
        "optimizer = torch.optim.Adam(model.parameters(), 0.00001)"
      ]
    },
    {
      "cell_type": "code",
      "source": [
        "torch.cuda.empty_cache()"
      ],
      "metadata": {
        "id": "p70BwoW59ZXC"
      },
      "execution_count": null,
      "outputs": []
    },
    {
      "cell_type": "code",
      "execution_count": null,
      "metadata": {
        "id": "cuW28lQZJya2"
      },
      "outputs": [],
      "source": [
        "# Обучаем модель\n",
        "trainer = UnetTrainer(model, optimizer, criterion, 'cuda', metric_functions=make_metrics())\n",
        "summary = trainer.fit(train_loader, 8, val_loader=valid_loader)"
      ]
    },
    {
      "cell_type": "markdown",
      "metadata": {
        "id": "YOT0Bh-9f5Mm"
      },
      "source": [
        "## Загрузка модели"
      ]
    },
    {
      "cell_type": "code",
      "execution_count": null,
      "metadata": {
        "id": "hREtJXdvR55A"
      },
      "outputs": [],
      "source": [
        "model = torch.load(PATH)"
      ]
    },
    {
      "cell_type": "markdown",
      "metadata": {
        "id": "HaNlDfajYoeO"
      },
      "source": [
        "## Посмотрим метрики обученной модели на валидационном датасете"
      ]
    },
    {
      "cell_type": "code",
      "execution_count": null,
      "metadata": {
        "colab": {
          "base_uri": "https://localhost:8080/"
        },
        "id": "ncJa-pXGJgMq",
        "outputId": "95585f40-ae88-4c7c-dd0b-8603452f3e95"
      },
      "outputs": [
        {
          "output_type": "execute_result",
          "data": {
            "text/plain": [
              "{'loss_train': array([0.15500257, 0.01888907, 0.0119652 , 0.00902441, 0.00822477,\n",
              "        0.00798329, 0.00719022, 0.0068791 , 0.00624083, 0.00585641,\n",
              "        0.0056319 , 0.00556039]),\n",
              " 'dice_train': array([0.92289451, 0.9837701 , 0.98889423, 0.99077701, 0.99171008,\n",
              "        0.99231634, 0.99285624, 0.99323499, 0.99363799, 0.99397432,\n",
              "        0.99423456, 0.99442601]),\n",
              " 'accuracy_train': array([0.92289451, 0.9837701 , 0.98889423, 0.99077701, 0.99171008,\n",
              "        0.99231634, 0.99285624, 0.99323499, 0.99363799, 0.99397432,\n",
              "        0.99423456, 0.99442601]),\n",
              " 'recall_train': array([0.92289451, 0.9837701 , 0.98889423, 0.99077701, 0.99171008,\n",
              "        0.99231634, 0.99285624, 0.99323499, 0.99363799, 0.99397432,\n",
              "        0.99423456, 0.99442601]),\n",
              " 'loss_test': array([0.97761524, 0.77414834, 0.64534125, 0.58286016, 0.5284497 ,\n",
              "        0.50063579, 0.51878923, 0.51279415, 0.52302887, 0.47199203,\n",
              "        0.48368909, 0.4689635 ]),\n",
              " 'dice_test': array([0.02238476, 0.22585166, 0.35465875, 0.41713984, 0.4715503 ,\n",
              "        0.4993642 , 0.48121076, 0.48720585, 0.47697113, 0.52800796,\n",
              "        0.51631092, 0.53103651]),\n",
              " 'accuracy_test': array([0.02061993, 0.24973044, 0.43235866, 0.52433682, 0.56713029,\n",
              "        0.58177985, 0.62926896, 0.66240447, 0.68128557, 0.64776382,\n",
              "        0.67589761, 0.66005999]),\n",
              " 'recall_test': array([0.03110508, 0.24826875, 0.35543496, 0.40598707, 0.47729324,\n",
              "        0.52476497, 0.46089575, 0.45195371, 0.43175522, 0.52745896,\n",
              "        0.49283006, 0.52946269])}"
            ]
          },
          "metadata": {},
          "execution_count": 59
        }
      ],
      "source": [
        "summary"
      ]
    },
    {
      "cell_type": "code",
      "execution_count": null,
      "metadata": {
        "colab": {
          "base_uri": "https://localhost:8080/",
          "height": 295
        },
        "id": "9PZw7XACUngH",
        "outputId": "ef420b0a-1592-4e34-f7fd-0883ab78e441"
      },
      "outputs": [
        {
          "output_type": "display_data",
          "data": {
            "text/plain": [
              "<Figure size 432x288 with 1 Axes>"
            ],
            "image/png": "[encoded data removed]"
          },
          "metadata": {
            "needs_background": "light"
          }
        }
      ],
      "source": [
        "# Функция потерь\n",
        "plot_history(summary['loss_train'], summary['loss_test'])"
      ]
    },
    {
      "cell_type": "code",
      "execution_count": null,
      "metadata": {
        "colab": {
          "base_uri": "https://localhost:8080/",
          "height": 295
        },
        "id": "rJ6-a76_JjI5",
        "outputId": "8d5b5498-8736-4c5c-f6e1-6d8068c870d3"
      },
      "outputs": [
        {
          "output_type": "display_data",
          "data": {
            "text/plain": [
              "<Figure size 432x288 with 1 Axes>"
            ],
            "image/png": "[encoded data removed]"
          },
          "metadata": {
            "needs_background": "light"
          }
        }
      ],
      "source": [
        "# Точность\n",
        "plot_history(summary['accuracy_train'], summary['accuracy_test'], \"accuracy\")"
      ]
    },
    {
      "cell_type": "code",
      "execution_count": null,
      "metadata": {
        "colab": {
          "base_uri": "https://localhost:8080/",
          "height": 295
        },
        "id": "z2HIBtW4gYqe",
        "outputId": "adb0294a-150a-40f8-88c1-86fc65e61bbd"
      },
      "outputs": [
        {
          "output_type": "display_data",
          "data": {
            "text/plain": [
              "<Figure size 432x288 with 1 Axes>"
            ],
            "image/png": "[encoded data removed]"
          },
          "metadata": {
            "needs_background": "light"
          }
        }
      ],
      "source": [
        "# Полнота\n",
        "plot_history(summary['recall_train'], summary['recall_test'], \"recall\")"
      ]
    },
    {
      "cell_type": "code",
      "execution_count": null,
      "metadata": {
        "colab": {
          "base_uri": "https://localhost:8080/",
          "height": 903
        },
        "id": "REshXIEC5fay",
        "outputId": "ab621561-75c4-4f29-ad34-5555545378dc"
      },
      "outputs": [
        {
          "ename": "RuntimeError",
          "evalue": "ignored",
          "output_type": "error",
          "traceback": [
            "\u001b[0;31m---------------------------------------------------------------------------\u001b[0m",
            "\u001b[0;31mRuntimeError\u001b[0m                              Traceback (most recent call last)",
            "\u001b[0;32m<ipython-input-95-02a36404441a>\u001b[0m in \u001b[0;36m<module>\u001b[0;34m\u001b[0m\n\u001b[1;32m      8\u001b[0m     \u001b[0mtrue_mask\u001b[0m \u001b[0;34m=\u001b[0m \u001b[0msample\u001b[0m\u001b[0;34m[\u001b[0m\u001b[0;34m'mask'\u001b[0m\u001b[0;34m]\u001b[0m\u001b[0;34m.\u001b[0m\u001b[0mto\u001b[0m\u001b[0;34m(\u001b[0m\u001b[0;34m\"cuda\"\u001b[0m\u001b[0;34m)\u001b[0m\u001b[0;34m\u001b[0m\u001b[0;34m\u001b[0m\u001b[0m\n\u001b[1;32m      9\u001b[0m \u001b[0;34m\u001b[0m\u001b[0m\n\u001b[0;32m---> 10\u001b[0;31m     \u001b[0mprediction\u001b[0m \u001b[0;34m=\u001b[0m \u001b[0mmodel\u001b[0m\u001b[0;34m.\u001b[0m\u001b[0meval\u001b[0m\u001b[0;34m(\u001b[0m\u001b[0;34m)\u001b[0m\u001b[0;34m(\u001b[0m\u001b[0mimage\u001b[0m\u001b[0;34m.\u001b[0m\u001b[0munsqueeze\u001b[0m\u001b[0;34m(\u001b[0m\u001b[0mdim\u001b[0m\u001b[0;34m=\u001b[0m\u001b[0;36m0\u001b[0m\u001b[0;34m)\u001b[0m\u001b[0;34m)\u001b[0m\u001b[0;34m\u001b[0m\u001b[0;34m\u001b[0m\u001b[0m\n\u001b[0m\u001b[1;32m     11\u001b[0m \u001b[0;34m\u001b[0m\u001b[0m\n\u001b[1;32m     12\u001b[0m     \u001b[0mimage\u001b[0m \u001b[0;34m=\u001b[0m \u001b[0;34m(\u001b[0m\u001b[0mimage\u001b[0m\u001b[0;34m.\u001b[0m\u001b[0mcpu\u001b[0m\u001b[0;34m(\u001b[0m\u001b[0;34m)\u001b[0m \u001b[0;34m*\u001b[0m \u001b[0;36m255\u001b[0m\u001b[0;34m)\u001b[0m\u001b[0;34m.\u001b[0m\u001b[0mtype\u001b[0m\u001b[0;34m(\u001b[0m\u001b[0mtorch\u001b[0m\u001b[0;34m.\u001b[0m\u001b[0muint8\u001b[0m\u001b[0;34m)\u001b[0m\u001b[0;34m\u001b[0m\u001b[0;34m\u001b[0m\u001b[0m\n",
            "\u001b[0;32m/usr/local/lib/python3.7/dist-packages/torch/nn/modules/module.py\u001b[0m in \u001b[0;36m_call_impl\u001b[0;34m(self, *input, **kwargs)\u001b[0m\n\u001b[1;32m   1128\u001b[0m         if not (self._backward_hooks or self._forward_hooks or self._forward_pre_hooks or _global_backward_hooks\n\u001b[1;32m   1129\u001b[0m                 or _global_forward_hooks or _global_forward_pre_hooks):\n\u001b[0;32m-> 1130\u001b[0;31m             \u001b[0;32mreturn\u001b[0m \u001b[0mforward_call\u001b[0m\u001b[0;34m(\u001b[0m\u001b[0;34m*\u001b[0m\u001b[0minput\u001b[0m\u001b[0;34m,\u001b[0m \u001b[0;34m**\u001b[0m\u001b[0mkwargs\u001b[0m\u001b[0;34m)\u001b[0m\u001b[0;34m\u001b[0m\u001b[0;34m\u001b[0m\u001b[0m\n\u001b[0m\u001b[1;32m   1131\u001b[0m         \u001b[0;31m# Do not call functions when jit is used\u001b[0m\u001b[0;34m\u001b[0m\u001b[0;34m\u001b[0m\u001b[0;34m\u001b[0m\u001b[0m\n\u001b[1;32m   1132\u001b[0m         \u001b[0mfull_backward_hooks\u001b[0m\u001b[0;34m,\u001b[0m \u001b[0mnon_full_backward_hooks\u001b[0m \u001b[0;34m=\u001b[0m \u001b[0;34m[\u001b[0m\u001b[0;34m]\u001b[0m\u001b[0;34m,\u001b[0m \u001b[0;34m[\u001b[0m\u001b[0;34m]\u001b[0m\u001b[0;34m\u001b[0m\u001b[0;34m\u001b[0m\u001b[0m\n",
            "\u001b[0;32m/usr/local/lib/python3.7/dist-packages/segmentation_models_pytorch/base/model.py\u001b[0m in \u001b[0;36mforward\u001b[0;34m(self, x)\u001b[0m\n\u001b[1;32m     27\u001b[0m         \u001b[0mself\u001b[0m\u001b[0;34m.\u001b[0m\u001b[0mcheck_input_shape\u001b[0m\u001b[0;34m(\u001b[0m\u001b[0mx\u001b[0m\u001b[0;34m)\u001b[0m\u001b[0;34m\u001b[0m\u001b[0;34m\u001b[0m\u001b[0m\n\u001b[1;32m     28\u001b[0m \u001b[0;34m\u001b[0m\u001b[0m\n\u001b[0;32m---> 29\u001b[0;31m         \u001b[0mfeatures\u001b[0m \u001b[0;34m=\u001b[0m \u001b[0mself\u001b[0m\u001b[0;34m.\u001b[0m\u001b[0mencoder\u001b[0m\u001b[0;34m(\u001b[0m\u001b[0mx\u001b[0m\u001b[0;34m)\u001b[0m\u001b[0;34m\u001b[0m\u001b[0;34m\u001b[0m\u001b[0m\n\u001b[0m\u001b[1;32m     30\u001b[0m         \u001b[0mdecoder_output\u001b[0m \u001b[0;34m=\u001b[0m \u001b[0mself\u001b[0m\u001b[0;34m.\u001b[0m\u001b[0mdecoder\u001b[0m\u001b[0;34m(\u001b[0m\u001b[0;34m*\u001b[0m\u001b[0mfeatures\u001b[0m\u001b[0;34m)\u001b[0m\u001b[0;34m\u001b[0m\u001b[0;34m\u001b[0m\u001b[0m\n\u001b[1;32m     31\u001b[0m \u001b[0;34m\u001b[0m\u001b[0m\n",
            "\u001b[0;32m/usr/local/lib/python3.7/dist-packages/torch/nn/modules/module.py\u001b[0m in \u001b[0;36m_call_impl\u001b[0;34m(self, *input, **kwargs)\u001b[0m\n\u001b[1;32m   1128\u001b[0m         if not (self._backward_hooks or self._forward_hooks or self._forward_pre_hooks or _global_backward_hooks\n\u001b[1;32m   1129\u001b[0m                 or _global_forward_hooks or _global_forward_pre_hooks):\n\u001b[0;32m-> 1130\u001b[0;31m             \u001b[0;32mreturn\u001b[0m \u001b[0mforward_call\u001b[0m\u001b[0;34m(\u001b[0m\u001b[0;34m*\u001b[0m\u001b[0minput\u001b[0m\u001b[0;34m,\u001b[0m \u001b[0;34m**\u001b[0m\u001b[0mkwargs\u001b[0m\u001b[0;34m)\u001b[0m\u001b[0;34m\u001b[0m\u001b[0;34m\u001b[0m\u001b[0m\n\u001b[0m\u001b[1;32m   1131\u001b[0m         \u001b[0;31m# Do not call functions when jit is used\u001b[0m\u001b[0;34m\u001b[0m\u001b[0;34m\u001b[0m\u001b[0;34m\u001b[0m\u001b[0m\n\u001b[1;32m   1132\u001b[0m         \u001b[0mfull_backward_hooks\u001b[0m\u001b[0;34m,\u001b[0m \u001b[0mnon_full_backward_hooks\u001b[0m \u001b[0;34m=\u001b[0m \u001b[0;34m[\u001b[0m\u001b[0;34m]\u001b[0m\u001b[0;34m,\u001b[0m \u001b[0;34m[\u001b[0m\u001b[0;34m]\u001b[0m\u001b[0;34m\u001b[0m\u001b[0;34m\u001b[0m\u001b[0m\n",
            "\u001b[0;32m/usr/local/lib/python3.7/dist-packages/segmentation_models_pytorch/encoders/efficientnet.py\u001b[0m in \u001b[0;36mforward\u001b[0;34m(self, x)\u001b[0m\n\u001b[1;32m     64\u001b[0m             \u001b[0;31m# Identity and Sequential stages\u001b[0m\u001b[0;34m\u001b[0m\u001b[0;34m\u001b[0m\u001b[0;34m\u001b[0m\u001b[0m\n\u001b[1;32m     65\u001b[0m             \u001b[0;32mif\u001b[0m \u001b[0mi\u001b[0m \u001b[0;34m<\u001b[0m \u001b[0;36m2\u001b[0m\u001b[0;34m:\u001b[0m\u001b[0;34m\u001b[0m\u001b[0;34m\u001b[0m\u001b[0m\n\u001b[0;32m---> 66\u001b[0;31m                 \u001b[0mx\u001b[0m \u001b[0;34m=\u001b[0m \u001b[0mstages\u001b[0m\u001b[0;34m[\u001b[0m\u001b[0mi\u001b[0m\u001b[0;34m]\u001b[0m\u001b[0;34m(\u001b[0m\u001b[0mx\u001b[0m\u001b[0;34m)\u001b[0m\u001b[0;34m\u001b[0m\u001b[0;34m\u001b[0m\u001b[0m\n\u001b[0m\u001b[1;32m     67\u001b[0m \u001b[0;34m\u001b[0m\u001b[0m\n\u001b[1;32m     68\u001b[0m             \u001b[0;31m# Block stages need drop_connect rate\u001b[0m\u001b[0;34m\u001b[0m\u001b[0;34m\u001b[0m\u001b[0;34m\u001b[0m\u001b[0m\n",
            "\u001b[0;32m/usr/local/lib/python3.7/dist-packages/torch/nn/modules/module.py\u001b[0m in \u001b[0;36m_call_impl\u001b[0;34m(self, *input, **kwargs)\u001b[0m\n\u001b[1;32m   1128\u001b[0m         if not (self._backward_hooks or self._forward_hooks or self._forward_pre_hooks or _global_backward_hooks\n\u001b[1;32m   1129\u001b[0m                 or _global_forward_hooks or _global_forward_pre_hooks):\n\u001b[0;32m-> 1130\u001b[0;31m             \u001b[0;32mreturn\u001b[0m \u001b[0mforward_call\u001b[0m\u001b[0;34m(\u001b[0m\u001b[0;34m*\u001b[0m\u001b[0minput\u001b[0m\u001b[0;34m,\u001b[0m \u001b[0;34m**\u001b[0m\u001b[0mkwargs\u001b[0m\u001b[0;34m)\u001b[0m\u001b[0;34m\u001b[0m\u001b[0;34m\u001b[0m\u001b[0m\n\u001b[0m\u001b[1;32m   1131\u001b[0m         \u001b[0;31m# Do not call functions when jit is used\u001b[0m\u001b[0;34m\u001b[0m\u001b[0;34m\u001b[0m\u001b[0;34m\u001b[0m\u001b[0m\n\u001b[1;32m   1132\u001b[0m         \u001b[0mfull_backward_hooks\u001b[0m\u001b[0;34m,\u001b[0m \u001b[0mnon_full_backward_hooks\u001b[0m \u001b[0;34m=\u001b[0m \u001b[0;34m[\u001b[0m\u001b[0;34m]\u001b[0m\u001b[0;34m,\u001b[0m \u001b[0;34m[\u001b[0m\u001b[0;34m]\u001b[0m\u001b[0;34m\u001b[0m\u001b[0;34m\u001b[0m\u001b[0m\n",
            "\u001b[0;32m/usr/local/lib/python3.7/dist-packages/torch/nn/modules/container.py\u001b[0m in \u001b[0;36mforward\u001b[0;34m(self, input)\u001b[0m\n\u001b[1;32m    137\u001b[0m     \u001b[0;32mdef\u001b[0m \u001b[0mforward\u001b[0m\u001b[0;34m(\u001b[0m\u001b[0mself\u001b[0m\u001b[0;34m,\u001b[0m \u001b[0minput\u001b[0m\u001b[0;34m)\u001b[0m\u001b[0;34m:\u001b[0m\u001b[0;34m\u001b[0m\u001b[0;34m\u001b[0m\u001b[0m\n\u001b[1;32m    138\u001b[0m         \u001b[0;32mfor\u001b[0m \u001b[0mmodule\u001b[0m \u001b[0;32min\u001b[0m \u001b[0mself\u001b[0m\u001b[0;34m:\u001b[0m\u001b[0;34m\u001b[0m\u001b[0;34m\u001b[0m\u001b[0m\n\u001b[0;32m--> 139\u001b[0;31m             \u001b[0minput\u001b[0m \u001b[0;34m=\u001b[0m \u001b[0mmodule\u001b[0m\u001b[0;34m(\u001b[0m\u001b[0minput\u001b[0m\u001b[0;34m)\u001b[0m\u001b[0;34m\u001b[0m\u001b[0;34m\u001b[0m\u001b[0m\n\u001b[0m\u001b[1;32m    140\u001b[0m         \u001b[0;32mreturn\u001b[0m \u001b[0minput\u001b[0m\u001b[0;34m\u001b[0m\u001b[0;34m\u001b[0m\u001b[0m\n\u001b[1;32m    141\u001b[0m \u001b[0;34m\u001b[0m\u001b[0m\n",
            "\u001b[0;32m/usr/local/lib/python3.7/dist-packages/torch/nn/modules/module.py\u001b[0m in \u001b[0;36m_call_impl\u001b[0;34m(self, *input, **kwargs)\u001b[0m\n\u001b[1;32m   1128\u001b[0m         if not (self._backward_hooks or self._forward_hooks or self._forward_pre_hooks or _global_backward_hooks\n\u001b[1;32m   1129\u001b[0m                 or _global_forward_hooks or _global_forward_pre_hooks):\n\u001b[0;32m-> 1130\u001b[0;31m             \u001b[0;32mreturn\u001b[0m \u001b[0mforward_call\u001b[0m\u001b[0;34m(\u001b[0m\u001b[0;34m*\u001b[0m\u001b[0minput\u001b[0m\u001b[0;34m,\u001b[0m \u001b[0;34m**\u001b[0m\u001b[0mkwargs\u001b[0m\u001b[0;34m)\u001b[0m\u001b[0;34m\u001b[0m\u001b[0;34m\u001b[0m\u001b[0m\n\u001b[0m\u001b[1;32m   1131\u001b[0m         \u001b[0;31m# Do not call functions when jit is used\u001b[0m\u001b[0;34m\u001b[0m\u001b[0;34m\u001b[0m\u001b[0;34m\u001b[0m\u001b[0m\n\u001b[1;32m   1132\u001b[0m         \u001b[0mfull_backward_hooks\u001b[0m\u001b[0;34m,\u001b[0m \u001b[0mnon_full_backward_hooks\u001b[0m \u001b[0;34m=\u001b[0m \u001b[0;34m[\u001b[0m\u001b[0;34m]\u001b[0m\u001b[0;34m,\u001b[0m \u001b[0;34m[\u001b[0m\u001b[0;34m]\u001b[0m\u001b[0;34m\u001b[0m\u001b[0;34m\u001b[0m\u001b[0m\n",
            "\u001b[0;32m/usr/local/lib/python3.7/dist-packages/efficientnet_pytorch/utils.py\u001b[0m in \u001b[0;36mforward\u001b[0;34m(self, x)\u001b[0m\n\u001b[1;32m    273\u001b[0m     \u001b[0;32mdef\u001b[0m \u001b[0mforward\u001b[0m\u001b[0;34m(\u001b[0m\u001b[0mself\u001b[0m\u001b[0;34m,\u001b[0m \u001b[0mx\u001b[0m\u001b[0;34m)\u001b[0m\u001b[0;34m:\u001b[0m\u001b[0;34m\u001b[0m\u001b[0;34m\u001b[0m\u001b[0m\n\u001b[1;32m    274\u001b[0m         \u001b[0mx\u001b[0m \u001b[0;34m=\u001b[0m \u001b[0mself\u001b[0m\u001b[0;34m.\u001b[0m\u001b[0mstatic_padding\u001b[0m\u001b[0;34m(\u001b[0m\u001b[0mx\u001b[0m\u001b[0;34m)\u001b[0m\u001b[0;34m\u001b[0m\u001b[0;34m\u001b[0m\u001b[0m\n\u001b[0;32m--> 275\u001b[0;31m         \u001b[0mx\u001b[0m \u001b[0;34m=\u001b[0m \u001b[0mF\u001b[0m\u001b[0;34m.\u001b[0m\u001b[0mconv2d\u001b[0m\u001b[0;34m(\u001b[0m\u001b[0mx\u001b[0m\u001b[0;34m,\u001b[0m \u001b[0mself\u001b[0m\u001b[0;34m.\u001b[0m\u001b[0mweight\u001b[0m\u001b[0;34m,\u001b[0m \u001b[0mself\u001b[0m\u001b[0;34m.\u001b[0m\u001b[0mbias\u001b[0m\u001b[0;34m,\u001b[0m \u001b[0mself\u001b[0m\u001b[0;34m.\u001b[0m\u001b[0mstride\u001b[0m\u001b[0;34m,\u001b[0m \u001b[0mself\u001b[0m\u001b[0;34m.\u001b[0m\u001b[0mpadding\u001b[0m\u001b[0;34m,\u001b[0m \u001b[0mself\u001b[0m\u001b[0;34m.\u001b[0m\u001b[0mdilation\u001b[0m\u001b[0;34m,\u001b[0m \u001b[0mself\u001b[0m\u001b[0;34m.\u001b[0m\u001b[0mgroups\u001b[0m\u001b[0;34m)\u001b[0m\u001b[0;34m\u001b[0m\u001b[0;34m\u001b[0m\u001b[0m\n\u001b[0m\u001b[1;32m    276\u001b[0m         \u001b[0;32mreturn\u001b[0m \u001b[0mx\u001b[0m\u001b[0;34m\u001b[0m\u001b[0;34m\u001b[0m\u001b[0m\n\u001b[1;32m    277\u001b[0m \u001b[0;34m\u001b[0m\u001b[0m\n",
            "\u001b[0;31mRuntimeError\u001b[0m: Expected 3D (unbatched) or 4D (batched) input to conv2d, but got input of size: [1, 32, 3, 33, 33]"
          ]
        },
        {
          "data": {
            "image/png": "[encoded data removed]",
            "text/plain": [
              "<Figure size 1152x576 with 8 Axes>"
            ]
          },
          "metadata": {},
          "output_type": "display_data"
        }
      ],
      "source": [
        "# Посмотрим на картинки предсказаний\n",
        "\n",
        "fig, axs = plt.subplots(2, 4, figsize=(16,8))\n",
        "fig.suptitle(f'Предскзаания модели {\" \"*105} Эталонная разметка', fontsize=14)\n",
        "\n",
        "for i, sample in zip(range(4), valid_dataset):\n",
        "    image = sample['image'].to(\"cuda\")\n",
        "    true_mask = sample['mask'].to(\"cuda\")\n",
        "\n",
        "    prediction = model.eval()(image.unsqueeze(dim=0))\n",
        "\n",
        "    image = (image.cpu() * 255).type(torch.uint8)\n",
        "    pred_ask = (torch.exp(prediction[0]) > 0.5).cpu()\n",
        "\n",
        "    image_with_mask = draw_segmentation_masks(image, pred_ask)\n",
        "    image_with_mask = np.moveaxis(image_with_mask.cpu().numpy(), 0, -1)\n",
        "\n",
        "    axs[i // 2, (i % 2)].imshow(image_with_mask)\n",
        "    axs[i // 2, (i % 2)].axis('off')\n",
        "\n",
        "\n",
        "    image_with_mask = draw_segmentation_masks(image, true_mask.type(torch.bool))\n",
        "    image_with_mask = np.moveaxis(image_with_mask.cpu().numpy(), 0, -1)\n",
        "    axs[i // 2, (i % 2)+2].imshow(image_with_mask)\n",
        "    axs[i // 2, (i % 2)+2].axis('off')\n",
        "\n",
        "\n",
        "fig.tight_layout()\n",
        "fig.subplots_adjust(top=0.88)"
      ]
    },
    {
      "cell_type": "markdown",
      "metadata": {
        "id": "Q4V0iIqVaEE_"
      },
      "source": [
        "# Предсказание изображений"
      ]
    },
    {
      "cell_type": "code",
      "source": [
        "i_size=256"
      ],
      "metadata": {
        "id": "LhGDiarPbEh2"
      },
      "execution_count": null,
      "outputs": []
    },
    {
      "cell_type": "code",
      "execution_count": null,
      "metadata": {
        "id": "3Wmd0hS1lBg0"
      },
      "outputs": [],
      "source": [
        "class TestDataset:\n",
        "  def __init__(self, files):\n",
        "    self.files=files\n",
        "    size=1024\n",
        "    self.transforms=A.Compose([A.LongestMaxSize(size, interpolation=cv2.INTER_CUBIC),\n",
        "              A.PadIfNeeded(size, size)])\n",
        "  def load_image(self,file):\n",
        "    image = cv2.imread(str(file), cv2.IMREAD_COLOR)\n",
        "    image = cv2.cvtColor(image, cv2.COLOR_BGR2RGB)\n",
        "    image = np.array(image / 255, dtype=np.float32)\n",
        "    image = self.transforms(image=image)\n",
        "    image = image['image']\n",
        "    cropped_image=np.random.rand((1024*1024)//(i_size*i_size),3,i_size,i_size)      \n",
        "    count=0\n",
        "    for y in range(0,1024, i_size):\n",
        "      for x in range(0,1024,i_size):\n",
        "        temp=A.Crop(x_min=x, y_min=y, x_max=x+i_size, y_max=y+i_size)(image=image)\n",
        "        cropped_image[count]=temp['image'].T\n",
        "        count+=1\n",
        "    return {'image': torch.from_numpy(cropped_image).float()}\n",
        "  def __getitem__(self, index):\n",
        "    return self.load_image('/content/test/eye_test/'+str(self.files[index]))\n",
        "  def __len__(self):\n",
        "    return len(self.files)"
      ]
    },
    {
      "cell_type": "code",
      "execution_count": null,
      "metadata": {
        "id": "gqQ5Jv7VWB8N"
      },
      "outputs": [],
      "source": [
        "class Predictor():\n",
        "  def __init__(self, model,dataset):\n",
        "    self.model=model\n",
        "    self.dataset=dataset\n",
        "  def predict(self):\n",
        "    self.predictions=[]\n",
        "    self.model=self.model.to('cuda')\n",
        "    model.eval()\n",
        "    for image in self.dataset:\n",
        "      with torch.no_grad():\n",
        "        c_img=image['image'].to('cuda')\n",
        "        pred = model(c_img).cpu()\n",
        "        del c_img\n",
        "        gc.collect()\n",
        "        pred_mask = (torch.exp(pred) > 0.5)\n",
        "        self.predictions.append(pred_mask)\n",
        "        del pred_mask\n",
        "        gc.collect()"
      ]
    },
    {
      "cell_type": "code",
      "source": [
        "torch.cuda.empty_cache()"
      ],
      "metadata": {
        "id": "apdS3HAFlWYv"
      },
      "execution_count": null,
      "outputs": []
    },
    {
      "cell_type": "code",
      "execution_count": null,
      "metadata": {
        "id": "3sUprKHnXEl8"
      },
      "outputs": [],
      "source": [
        "test_dataset=TestDataset(listdir('/content/test/eye_test'))\n",
        "predictor=Predictor(model, test_dataset)\n",
        "predictor.predict()"
      ]
    },
    {
      "cell_type": "code",
      "execution_count": null,
      "metadata": {
        "id": "x2o7dWdPJuB3"
      },
      "outputs": [],
      "source": [
        "size=256"
      ]
    },
    {
      "cell_type": "code",
      "execution_count": null,
      "metadata": {
        "id": "paKam-K2fN0L"
      },
      "outputs": [],
      "source": [
        "for i in range(len(test_dataset)):\n",
        "  np_image=predictor.predictions[i].numpy().astype(np.uint8)\n",
        "  img_rows=[]\n",
        "  for min_id in range(0, (1024*1024)//(size*size), 1024//size):\n",
        "    img_row = np.hstack( (np.asarray(i).T for i in np_image[min_id: min_id+1024//size] ) )\n",
        "    img_rows.append(img_row)\n",
        "  np_image = np.vstack( ( i for i in img_rows ) )\n",
        "  np_image=A.CenterCrop(777, 1024)(image=np_image)\n",
        "  np_image=A.SmallestMaxSize(max_size=1232)(image=np_image['image'])\n",
        "  np_image=np_image['image'].T[1].T\n",
        "  cv2.imwrite(f'/content/predicts/{test_dataset.files[i]}', np_image*255)"
      ]
    },
    {
      "cell_type": "code",
      "execution_count": null,
      "metadata": {
        "id": "vytC4lCdoTWN",
        "colab": {
          "base_uri": "https://localhost:8080/"
        },
        "outputId": "b13b237f-fd42-4046-c22e-85895209d34f"
      },
      "outputs": [
        {
          "output_type": "stream",
          "name": "stdout",
          "text": [
            "updating: content/predicts/ (stored 0%)\n",
            "updating: content/predicts/1087.png (deflated 29%)\n",
            "updating: content/predicts/1102.png (deflated 29%)\n",
            "updating: content/predicts/877.png (deflated 31%)\n",
            "updating: content/predicts/1098.png (deflated 21%)\n",
            "updating: content/predicts/906.png (deflated 26%)\n",
            "updating: content/predicts/1094.png (deflated 27%)\n",
            "updating: content/predicts/1113.png (deflated 21%)\n",
            "updating: content/predicts/1088.png (deflated 29%)\n",
            "updating: content/predicts/931.png (deflated 91%)\n",
            "updating: content/predicts/1107.png (deflated 44%)\n",
            "updating: content/predicts/832.png (deflated 28%)\n",
            "updating: content/predicts/837.png (deflated 39%)\n",
            "updating: content/predicts/1009.png (deflated 44%)\n",
            "updating: content/predicts/969.png (deflated 30%)\n",
            "updating: content/predicts/853.png (deflated 47%)\n",
            "updating: content/predicts/1085.png (deflated 21%)\n",
            "updating: content/predicts/1062.png (deflated 42%)\n",
            "updating: content/predicts/1039.png (deflated 56%)\n",
            "updating: content/predicts/1105.png (deflated 34%)\n",
            "updating: content/predicts/986.png (deflated 32%)\n",
            "updating: content/predicts/1017.png (deflated 41%)\n",
            "updating: content/predicts/861.png (deflated 42%)\n",
            "updating: content/predicts/1090.png (deflated 32%)\n",
            "updating: content/predicts/851.png (deflated 76%)\n",
            "updating: content/predicts/963.png (deflated 32%)\n",
            "updating: content/predicts/970.png (deflated 61%)\n",
            "updating: content/predicts/940.png (deflated 53%)\n",
            "updating: content/predicts/966.png (deflated 33%)\n",
            "updating: content/predicts/1073.png (deflated 61%)\n",
            "updating: content/predicts/1070.png (deflated 25%)\n",
            "updating: content/predicts/1027.png (deflated 54%)\n",
            "updating: content/predicts/924.png (deflated 30%)\n",
            "updating: content/predicts/955.png (deflated 33%)\n",
            "updating: content/predicts/885.png (deflated 50%)\n",
            "updating: content/predicts/846.png (deflated 30%)\n",
            "updating: content/predicts/1029.png (deflated 30%)\n",
            "updating: content/predicts/1004.png (deflated 37%)\n",
            "updating: content/predicts/939.png (deflated 30%)\n",
            "updating: content/predicts/943.png (deflated 31%)\n",
            "updating: content/predicts/867.png (deflated 36%)\n",
            "updating: content/predicts/847.png (deflated 35%)\n",
            "updating: content/predicts/947.png (deflated 29%)\n",
            "updating: content/predicts/961.png (deflated 40%)\n",
            "updating: content/predicts/887.png (deflated 33%)\n",
            "updating: content/predicts/952.png (deflated 42%)\n",
            "updating: content/predicts/954.png (deflated 29%)\n",
            "updating: content/predicts/1041.png (deflated 55%)\n",
            "updating: content/predicts/967.png (deflated 64%)\n",
            "updating: content/predicts/1044.png (deflated 27%)\n",
            "updating: content/predicts/807.png (deflated 49%)\n",
            "updating: content/predicts/918.png (deflated 44%)\n",
            "updating: content/predicts/909.png (deflated 45%)\n",
            "updating: content/predicts/1108.png (deflated 47%)\n",
            "updating: content/predicts/859.png (deflated 33%)\n",
            "updating: content/predicts/1003.png (deflated 31%)\n",
            "updating: content/predicts/817.png (deflated 37%)\n",
            "updating: content/predicts/1059.png (deflated 35%)\n",
            "updating: content/predicts/1034.png (deflated 30%)\n",
            "updating: content/predicts/921.png (deflated 36%)\n",
            "updating: content/predicts/831.png (deflated 72%)\n",
            "updating: content/predicts/978.png (deflated 37%)\n",
            "updating: content/predicts/920.png (deflated 22%)\n",
            "updating: content/predicts/866.png (deflated 31%)\n",
            "updating: content/predicts/1043.png (deflated 29%)\n",
            "updating: content/predicts/932.png (deflated 33%)\n",
            "updating: content/predicts/1075.png (deflated 31%)\n",
            "updating: content/predicts/1084.png (deflated 22%)\n",
            "updating: content/predicts/950.png (deflated 45%)\n",
            "updating: content/predicts/855.png (deflated 35%)\n",
            "updating: content/predicts/1046.png (deflated 62%)\n",
            "updating: content/predicts/1057.png (deflated 41%)\n",
            "updating: content/predicts/896.png (deflated 33%)\n",
            "updating: content/predicts/803.png (deflated 45%)\n",
            "updating: content/predicts/923.png (deflated 48%)\n",
            "updating: content/predicts/945.png (deflated 51%)\n",
            "updating: content/predicts/980.png (deflated 48%)\n",
            "updating: content/predicts/1069.png (deflated 26%)\n",
            "updating: content/predicts/1047.png (deflated 41%)\n",
            "updating: content/predicts/806.png (deflated 36%)\n",
            "updating: content/predicts/795.png (deflated 23%)\n",
            "updating: content/predicts/1028.png (deflated 29%)\n",
            "updating: content/predicts/1063.png (deflated 35%)\n",
            "updating: content/predicts/874.png (deflated 48%)\n",
            "updating: content/predicts/1025.png (deflated 39%)\n",
            "updating: content/predicts/791.png (deflated 45%)\n",
            "updating: content/predicts/913.png (deflated 50%)\n",
            "updating: content/predicts/917.png (deflated 69%)\n",
            "updating: content/predicts/899.png (deflated 32%)\n",
            "updating: content/predicts/876.png (deflated 41%)\n",
            "updating: content/predicts/871.png (deflated 41%)\n",
            "updating: content/predicts/1042.png (deflated 39%)\n",
            "updating: content/predicts/802.png (deflated 32%)\n",
            "updating: content/predicts/1053.png (deflated 30%)\n",
            "updating: content/predicts/965.png (deflated 25%)\n",
            "updating: content/predicts/1076.png (deflated 31%)\n",
            "updating: content/predicts/1005.png (deflated 31%)\n",
            "updating: content/predicts/822.png (deflated 55%)\n",
            "updating: content/predicts/983.png (deflated 49%)\n",
            "updating: content/predicts/827.png (deflated 27%)\n",
            "updating: content/predicts/1097.png (deflated 36%)\n",
            "updating: content/predicts/1048.png (deflated 36%)\n",
            "updating: content/predicts/904.png (deflated 28%)\n",
            "updating: content/predicts/987.png (deflated 69%)\n",
            "updating: content/predicts/1079.png (deflated 59%)\n",
            "updating: content/predicts/1016.png (deflated 35%)\n",
            "updating: content/predicts/988.png (deflated 57%)\n",
            "updating: content/predicts/870.png (deflated 41%)\n",
            "updating: content/predicts/1074.png (deflated 32%)\n",
            "updating: content/predicts/903.png (deflated 33%)\n",
            "updating: content/predicts/852.png (deflated 47%)\n",
            "updating: content/predicts/929.png (deflated 75%)\n",
            "updating: content/predicts/907.png (deflated 30%)\n",
            "updating: content/predicts/1019.png (deflated 28%)\n",
            "updating: content/predicts/1023.png (deflated 67%)\n",
            "updating: content/predicts/823.png (deflated 39%)\n",
            "updating: content/predicts/957.png (deflated 33%)\n",
            "updating: content/predicts/1099.png (deflated 20%)\n",
            "updating: content/predicts/993.png (deflated 24%)\n",
            "updating: content/predicts/816.png (deflated 54%)\n",
            "updating: content/predicts/856.png (deflated 31%)\n",
            "updating: content/predicts/951.png (deflated 28%)\n",
            "updating: content/predicts/985.png (deflated 25%)\n",
            "updating: content/predicts/908.png (deflated 43%)\n",
            "updating: content/predicts/960.png (deflated 49%)\n",
            "updating: content/predicts/1089.png (deflated 29%)\n",
            "updating: content/predicts/864.png (deflated 32%)\n",
            "updating: content/predicts/1068.png (deflated 33%)\n",
            "updating: content/predicts/857.png (deflated 36%)\n",
            "updating: content/predicts/839.png (deflated 49%)\n",
            "updating: content/predicts/1010.png (deflated 28%)\n",
            "updating: content/predicts/1066.png (deflated 30%)\n",
            "updating: content/predicts/901.png (deflated 28%)\n",
            "updating: content/predicts/948.png (deflated 28%)\n",
            "updating: content/predicts/1101.png (deflated 22%)\n",
            "updating: content/predicts/875.png (deflated 58%)\n",
            "updating: content/predicts/1077.png (deflated 29%)\n",
            "updating: content/predicts/936.png (deflated 39%)\n",
            "updating: content/predicts/912.png (deflated 41%)\n",
            "updating: content/predicts/1054.png (deflated 36%)\n",
            "updating: content/predicts/820.png (deflated 33%)\n",
            "updating: content/predicts/1056.png (deflated 32%)\n",
            "updating: content/predicts/962.png (deflated 44%)\n",
            "updating: content/predicts/1106.png (deflated 37%)\n",
            "updating: content/predicts/934.png (deflated 49%)\n",
            "updating: content/predicts/1051.png (deflated 42%)\n",
            "updating: content/predicts/1100.png (deflated 20%)\n",
            "updating: content/predicts/1104.png (deflated 29%)\n",
            "updating: content/predicts/1015.png (deflated 28%)\n",
            "updating: content/predicts/944.png (deflated 34%)\n",
            "updating: content/predicts/1026.png (deflated 43%)\n",
            "updating: content/predicts/1080.png (deflated 29%)\n",
            "updating: content/predicts/964.png (deflated 27%)\n",
            "updating: content/predicts/937.png (deflated 31%)\n",
            "updating: content/predicts/975.png (deflated 29%)\n",
            "updating: content/predicts/1116.png (deflated 29%)\n",
            "updating: content/predicts/956.png (deflated 27%)\n",
            "updating: content/predicts/809.png (deflated 30%)\n",
            "updating: content/predicts/1103.png (deflated 27%)\n",
            "updating: content/predicts/977.png (deflated 40%)\n",
            "updating: content/predicts/834.png (deflated 36%)\n",
            "updating: content/predicts/840.png (deflated 29%)\n",
            "updating: content/predicts/905.png (deflated 33%)\n",
            "updating: content/predicts/894.png (deflated 23%)\n",
            "updating: content/predicts/1050.png (deflated 43%)\n",
            "updating: content/predicts/1031.png (deflated 40%)\n",
            "updating: content/predicts/897.png (deflated 29%)\n",
            "updating: content/predicts/808.png (deflated 50%)\n",
            "updating: content/predicts/1045.png (deflated 36%)\n",
            "updating: content/predicts/1018.png (deflated 61%)\n",
            "updating: content/predicts/787.png (deflated 71%)\n",
            "updating: content/predicts/799.png (deflated 33%)\n",
            "updating: content/predicts/792.png (deflated 46%)\n",
            "updating: content/predicts/886.png (deflated 32%)\n",
            "updating: content/predicts/946.png (deflated 70%)\n",
            "updating: content/predicts/829.png (deflated 44%)\n",
            "updating: content/predicts/991.png (deflated 33%)\n",
            "updating: content/predicts/1060.png (deflated 56%)\n",
            "updating: content/predicts/941.png (deflated 27%)\n",
            "updating: content/predicts/1008.png (deflated 30%)\n",
            "updating: content/predicts/800.png (deflated 34%)\n",
            "updating: content/predicts/881.png (deflated 97%)\n",
            "updating: content/predicts/797.png (deflated 41%)\n",
            "updating: content/predicts/953.png (deflated 26%)\n",
            "updating: content/predicts/891.png (deflated 32%)\n",
            "updating: content/predicts/798.png (deflated 44%)\n",
            "updating: content/predicts/811.png (deflated 32%)\n",
            "updating: content/predicts/949.png (deflated 30%)\n",
            "updating: content/predicts/914.png (deflated 55%)\n",
            "updating: content/predicts/915.png (deflated 37%)\n",
            "updating: content/predicts/1037.png (deflated 37%)\n",
            "updating: content/predicts/804.png (deflated 29%)\n",
            "updating: content/predicts/898.png (deflated 44%)\n",
            "updating: content/predicts/982.png (deflated 35%)\n",
            "updating: content/predicts/1055.png (deflated 25%)\n",
            "updating: content/predicts/1058.png (deflated 41%)\n",
            "updating: content/predicts/825.png (deflated 26%)\n",
            "updating: content/predicts/879.png (deflated 25%)\n",
            "updating: content/predicts/889.png (deflated 30%)\n",
            "updating: content/predicts/1035.png (deflated 37%)\n",
            "updating: content/predicts/872.png (deflated 31%)\n",
            "updating: content/predicts/1114.png (deflated 22%)\n",
            "updating: content/predicts/1092.png (deflated 30%)\n",
            "updating: content/predicts/974.png (deflated 36%)\n",
            "updating: content/predicts/1011.png (deflated 44%)\n",
            "updating: content/predicts/1091.png (deflated 29%)\n",
            "updating: content/predicts/1007.png (deflated 24%)\n",
            "updating: content/predicts/1081.png (deflated 27%)\n",
            "updating: content/predicts/833.png (deflated 55%)\n",
            "updating: content/predicts/994.png (deflated 40%)\n",
            "updating: content/predicts/842.png (deflated 75%)\n",
            "updating: content/predicts/830.png (deflated 58%)\n",
            "updating: content/predicts/844.png (deflated 36%)\n",
            "updating: content/predicts/942.png (deflated 32%)\n",
            "updating: content/predicts/1033.png (deflated 51%)\n",
            "updating: content/predicts/972.png (deflated 28%)\n",
            "updating: content/predicts/990.png (deflated 56%)\n",
            "updating: content/predicts/999.png (deflated 81%)\n",
            "updating: content/predicts/1022.png (deflated 26%)\n",
            "updating: content/predicts/805.png (deflated 38%)\n",
            "updating: content/predicts/828.png (deflated 70%)\n",
            "updating: content/predicts/902.png (deflated 73%)\n",
            "updating: content/predicts/858.png (deflated 34%)\n",
            "updating: content/predicts/862.png (deflated 44%)\n",
            "updating: content/predicts/992.png (deflated 43%)\n",
            "updating: content/predicts/888.png (deflated 46%)\n",
            "updating: content/predicts/1109.png (deflated 39%)\n",
            "updating: content/predicts/927.png (deflated 30%)\n",
            "updating: content/predicts/868.png (deflated 50%)\n",
            "updating: content/predicts/836.png (deflated 37%)\n",
            "updating: content/predicts/935.png (deflated 48%)\n",
            "updating: content/predicts/1012.png (deflated 47%)\n",
            "updating: content/predicts/882.png (deflated 36%)\n",
            "updating: content/predicts/819.png (deflated 62%)\n",
            "updating: content/predicts/843.png (deflated 29%)\n",
            "updating: content/predicts/958.png (deflated 67%)\n",
            "updating: content/predicts/1002.png (deflated 32%)\n",
            "updating: content/predicts/1038.png (deflated 33%)\n",
            "updating: content/predicts/1052.png (deflated 34%)\n",
            "updating: content/predicts/979.png (deflated 56%)\n",
            "updating: content/predicts/984.png (deflated 30%)\n",
            "updating: content/predicts/824.png (deflated 45%)\n",
            "updating: content/predicts/854.png (deflated 31%)\n",
            "updating: content/predicts/1112.png (deflated 23%)\n",
            "updating: content/predicts/916.png (deflated 31%)\n",
            "updating: content/predicts/976.png (deflated 38%)\n",
            "updating: content/predicts/878.png (deflated 36%)\n",
            "updating: content/predicts/928.png (deflated 28%)\n",
            "updating: content/predicts/1110.png (deflated 21%)\n",
            "updating: content/predicts/784.png (deflated 60%)\n",
            "updating: content/predicts/1093.png (deflated 29%)\n",
            "updating: content/predicts/1086.png (deflated 30%)\n",
            "updating: content/predicts/848.png (deflated 39%)\n",
            "updating: content/predicts/869.png (deflated 31%)\n",
            "updating: content/predicts/998.png (deflated 33%)\n",
            "updating: content/predicts/860.png (deflated 27%)\n",
            "updating: content/predicts/810.png (deflated 34%)\n",
            "updating: content/predicts/850.png (deflated 53%)\n",
            "updating: content/predicts/1083.png (deflated 50%)\n",
            "updating: content/predicts/995.png (deflated 25%)\n",
            "updating: content/predicts/890.png (deflated 31%)\n",
            "updating: content/predicts/892.png (deflated 29%)\n",
            "updating: content/predicts/930.png (deflated 42%)\n",
            "updating: content/predicts/910.png (deflated 21%)\n",
            "updating: content/predicts/900.png (deflated 37%)\n",
            "updating: content/predicts/1082.png (deflated 50%)\n",
            "updating: content/predicts/919.png (deflated 41%)\n",
            "updating: content/predicts/1078.png (deflated 26%)\n",
            "updating: content/predicts/884.png (deflated 28%)\n",
            "updating: content/predicts/1067.png (deflated 31%)\n",
            "updating: content/predicts/845.png (deflated 66%)\n",
            "updating: content/predicts/1020.png (deflated 36%)\n",
            "updating: content/predicts/788.png (deflated 59%)\n",
            "updating: content/predicts/1072.png (deflated 56%)\n",
            "updating: content/predicts/818.png (deflated 32%)\n",
            "updating: content/predicts/841.png (deflated 44%)\n",
            "updating: content/predicts/1013.png (deflated 40%)\n",
            "updating: content/predicts/1036.png (deflated 30%)\n",
            "updating: content/predicts/1014.png (deflated 41%)\n",
            "updating: content/predicts/997.png (deflated 91%)\n",
            "updating: content/predicts/789.png (deflated 47%)\n",
            "updating: content/predicts/911.png (deflated 46%)\n",
            "updating: content/predicts/1064.png (deflated 36%)\n",
            "updating: content/predicts/1049.png (deflated 63%)\n",
            "updating: content/predicts/926.png (deflated 33%)\n",
            "updating: content/predicts/933.png (deflated 28%)\n",
            "updating: content/predicts/838.png (deflated 36%)\n",
            "updating: content/predicts/981.png (deflated 49%)\n",
            "updating: content/predicts/971.png (deflated 48%)\n",
            "updating: content/predicts/893.png (deflated 31%)\n",
            "updating: content/predicts/1001.png (deflated 33%)\n",
            "updating: content/predicts/895.png (deflated 34%)\n",
            "updating: content/predicts/1111.png (deflated 23%)\n",
            "updating: content/predicts/873.png (deflated 42%)\n",
            "updating: content/predicts/849.png (deflated 30%)\n",
            "updating: content/predicts/826.png (deflated 23%)\n",
            "updating: content/predicts/883.png (deflated 26%)\n",
            "updating: content/predicts/815.png (deflated 28%)\n",
            "updating: content/predicts/1024.png (deflated 31%)\n",
            "updating: content/predicts/1032.png (deflated 31%)\n",
            "updating: content/predicts/996.png (deflated 53%)\n",
            "updating: content/predicts/1096.png (deflated 30%)\n"
          ]
        }
      ],
      "source": [
        "!zip -r '/content/predicts.zip' '/content/predicts'"
      ]
    }
  ],
  "metadata": {
    "accelerator": "GPU",
    "colab": {
      "collapsed_sections": [
        "d3p-oMp3tplj",
        "l5MpBxb2MjsO",
        "rlO_9AW_P0ad",
        "vtpbyaX-Jyaa",
        "YOT0Bh-9f5Mm",
        "HaNlDfajYoeO",
        "Q4V0iIqVaEE_"
      ],
      "provenance": []
    },
    "kernelspec": {
      "display_name": "Python 3",
      "language": "python",
      "name": "python3"
    },
    "language_info": {
      "codemirror_mode": {
        "name": "ipython",
        "version": 3
      },
      "file_extension": ".py",
      "mimetype": "text/x-python",
      "name": "python",
      "nbconvert_exporter": "python",
      "pygments_lexer": "ipython3",
      "version": "3.7.3"
    },
    "widgets": {
      "application/vnd.jupyter.widget-state+json": {
        "958d4455fa0c411fbb83bffda4333f7d": {
          "model_module": "@jupyter-widgets/controls",
          "model_name": "HBoxModel",
          "model_module_version": "1.5.0",
          "state": {
            "_dom_classes": [],
            "_model_module": "@jupyter-widgets/controls",
            "_model_module_version": "1.5.0",
            "_model_name": "HBoxModel",
            "_view_count": null,
            "_view_module": "@jupyter-widgets/controls",
            "_view_module_version": "1.5.0",
            "_view_name": "HBoxView",
            "box_style": "",
            "children": [
              "IPY_MODEL_a4e07b7435f048b68b1dbf4674293f92",
              "IPY_MODEL_388610b96923490098e6c230d5cc8274",
              "IPY_MODEL_a9a7172a20db4cc284df1600095d1fea"
            ],
            "layout": "IPY_MODEL_645a800509914fd2b58b8195db1089f9"
          }
        },
        "a4e07b7435f048b68b1dbf4674293f92": {
          "model_module": "@jupyter-widgets/controls",
          "model_name": "HTMLModel",
          "model_module_version": "1.5.0",
          "state": {
            "_dom_classes": [],
            "_model_module": "@jupyter-widgets/controls",
            "_model_module_version": "1.5.0",
            "_model_name": "HTMLModel",
            "_view_count": null,
            "_view_module": "@jupyter-widgets/controls",
            "_view_module_version": "1.5.0",
            "_view_name": "HTMLView",
            "description": "",
            "description_tooltip": null,
            "layout": "IPY_MODEL_bd97e29882374490b2a13ef6ffc8ce6e",
            "placeholder": "​",
            "style": "IPY_MODEL_8e2c0c404fb24afe94ea81f0f6f9de78",
            "value": "100%"
          }
        },
        "388610b96923490098e6c230d5cc8274": {
          "model_module": "@jupyter-widgets/controls",
          "model_name": "FloatProgressModel",
          "model_module_version": "1.5.0",
          "state": {
            "_dom_classes": [],
            "_model_module": "@jupyter-widgets/controls",
            "_model_module_version": "1.5.0",
            "_model_name": "FloatProgressModel",
            "_view_count": null,
            "_view_module": "@jupyter-widgets/controls",
            "_view_module_version": "1.5.0",
            "_view_name": "ProgressView",
            "bar_style": "success",
            "description": "",
            "description_tooltip": null,
            "layout": "IPY_MODEL_95a347f173e94856baa5fb334bb1dc72",
            "max": 241530880,
            "min": 0,
            "orientation": "horizontal",
            "style": "IPY_MODEL_5172b20c5ea44299aad4f4f4d945d84d",
            "value": 241530880
          }
        },
        "a9a7172a20db4cc284df1600095d1fea": {
          "model_module": "@jupyter-widgets/controls",
          "model_name": "HTMLModel",
          "model_module_version": "1.5.0",
          "state": {
            "_dom_classes": [],
            "_model_module": "@jupyter-widgets/controls",
            "_model_module_version": "1.5.0",
            "_model_name": "HTMLModel",
            "_view_count": null,
            "_view_module": "@jupyter-widgets/controls",
            "_view_module_version": "1.5.0",
            "_view_name": "HTMLView",
            "description": "",
            "description_tooltip": null,
            "layout": "IPY_MODEL_470a3b5d046e45a1afe82c95be645107",
            "placeholder": "​",
            "style": "IPY_MODEL_40772dceee894426ac1087a78fa65aab",
            "value": " 230M/230M [00:02&lt;00:00, 101MB/s]"
          }
        },
        "645a800509914fd2b58b8195db1089f9": {
          "model_module": "@jupyter-widgets/base",
          "model_name": "LayoutModel",
          "model_module_version": "1.2.0",
          "state": {
            "_model_module": "@jupyter-widgets/base",
            "_model_module_version": "1.2.0",
            "_model_name": "LayoutModel",
            "_view_count": null,
            "_view_module": "@jupyter-widgets/base",
            "_view_module_version": "1.2.0",
            "_view_name": "LayoutView",
            "align_content": null,
            "align_items": null,
            "align_self": null,
            "border": null,
            "bottom": null,
            "display": null,
            "flex": null,
            "flex_flow": null,
            "grid_area": null,
            "grid_auto_columns": null,
            "grid_auto_flow": null,
            "grid_auto_rows": null,
            "grid_column": null,
            "grid_gap": null,
            "grid_row": null,
            "grid_template_areas": null,
            "grid_template_columns": null,
            "grid_template_rows": null,
            "height": null,
            "justify_content": null,
            "justify_items": null,
            "left": null,
            "margin": null,
            "max_height": null,
            "max_width": null,
            "min_height": null,
            "min_width": null,
            "object_fit": null,
            "object_position": null,
            "order": null,
            "overflow": null,
            "overflow_x": null,
            "overflow_y": null,
            "padding": null,
            "right": null,
            "top": null,
            "visibility": null,
            "width": null
          }
        },
        "bd97e29882374490b2a13ef6ffc8ce6e": {
          "model_module": "@jupyter-widgets/base",
          "model_name": "LayoutModel",
          "model_module_version": "1.2.0",
          "state": {
            "_model_module": "@jupyter-widgets/base",
            "_model_module_version": "1.2.0",
            "_model_name": "LayoutModel",
            "_view_count": null,
            "_view_module": "@jupyter-widgets/base",
            "_view_module_version": "1.2.0",
            "_view_name": "LayoutView",
            "align_content": null,
            "align_items": null,
            "align_self": null,
            "border": null,
            "bottom": null,
            "display": null,
            "flex": null,
            "flex_flow": null,
            "grid_area": null,
            "grid_auto_columns": null,
            "grid_auto_flow": null,
            "grid_auto_rows": null,
            "grid_column": null,
            "grid_gap": null,
            "grid_row": null,
            "grid_template_areas": null,
            "grid_template_columns": null,
            "grid_template_rows": null,
            "height": null,
            "justify_content": null,
            "justify_items": null,
            "left": null,
            "margin": null,
            "max_height": null,
            "max_width": null,
            "min_height": null,
            "min_width": null,
            "object_fit": null,
            "object_position": null,
            "order": null,
            "overflow": null,
            "overflow_x": null,
            "overflow_y": null,
            "padding": null,
            "right": null,
            "top": null,
            "visibility": null,
            "width": null
          }
        },
        "8e2c0c404fb24afe94ea81f0f6f9de78": {
          "model_module": "@jupyter-widgets/controls",
          "model_name": "DescriptionStyleModel",
          "model_module_version": "1.5.0",
          "state": {
            "_model_module": "@jupyter-widgets/controls",
            "_model_module_version": "1.5.0",
            "_model_name": "DescriptionStyleModel",
            "_view_count": null,
            "_view_module": "@jupyter-widgets/base",
            "_view_module_version": "1.2.0",
            "_view_name": "StyleView",
            "description_width": ""
          }
        },
        "95a347f173e94856baa5fb334bb1dc72": {
          "model_module": "@jupyter-widgets/base",
          "model_name": "LayoutModel",
          "model_module_version": "1.2.0",
          "state": {
            "_model_module": "@jupyter-widgets/base",
            "_model_module_version": "1.2.0",
            "_model_name": "LayoutModel",
            "_view_count": null,
            "_view_module": "@jupyter-widgets/base",
            "_view_module_version": "1.2.0",
            "_view_name": "LayoutView",
            "align_content": null,
            "align_items": null,
            "align_self": null,
            "border": null,
            "bottom": null,
            "display": null,
            "flex": null,
            "flex_flow": null,
            "grid_area": null,
            "grid_auto_columns": null,
            "grid_auto_flow": null,
            "grid_auto_rows": null,
            "grid_column": null,
            "grid_gap": null,
            "grid_row": null,
            "grid_template_areas": null,
            "grid_template_columns": null,
            "grid_template_rows": null,
            "height": null,
            "justify_content": null,
            "justify_items": null,
            "left": null,
            "margin": null,
            "max_height": null,
            "max_width": null,
            "min_height": null,
            "min_width": null,
            "object_fit": null,
            "object_position": null,
            "order": null,
            "overflow": null,
            "overflow_x": null,
            "overflow_y": null,
            "padding": null,
            "right": null,
            "top": null,
            "visibility": null,
            "width": null
          }
        },
        "5172b20c5ea44299aad4f4f4d945d84d": {
          "model_module": "@jupyter-widgets/controls",
          "model_name": "ProgressStyleModel",
          "model_module_version": "1.5.0",
          "state": {
            "_model_module": "@jupyter-widgets/controls",
            "_model_module_version": "1.5.0",
            "_model_name": "ProgressStyleModel",
            "_view_count": null,
            "_view_module": "@jupyter-widgets/base",
            "_view_module_version": "1.2.0",
            "_view_name": "StyleView",
            "bar_color": null,
            "description_width": ""
          }
        },
        "470a3b5d046e45a1afe82c95be645107": {
          "model_module": "@jupyter-widgets/base",
          "model_name": "LayoutModel",
          "model_module_version": "1.2.0",
          "state": {
            "_model_module": "@jupyter-widgets/base",
            "_model_module_version": "1.2.0",
            "_model_name": "LayoutModel",
            "_view_count": null,
            "_view_module": "@jupyter-widgets/base",
            "_view_module_version": "1.2.0",
            "_view_name": "LayoutView",
            "align_content": null,
            "align_items": null,
            "align_self": null,
            "border": null,
            "bottom": null,
            "display": null,
            "flex": null,
            "flex_flow": null,
            "grid_area": null,
            "grid_auto_columns": null,
            "grid_auto_flow": null,
            "grid_auto_rows": null,
            "grid_column": null,
            "grid_gap": null,
            "grid_row": null,
            "grid_template_areas": null,
            "grid_template_columns": null,
            "grid_template_rows": null,
            "height": null,
            "justify_content": null,
            "justify_items": null,
            "left": null,
            "margin": null,
            "max_height": null,
            "max_width": null,
            "min_height": null,
            "min_width": null,
            "object_fit": null,
            "object_position": null,
            "order": null,
            "overflow": null,
            "overflow_x": null,
            "overflow_y": null,
            "padding": null,
            "right": null,
            "top": null,
            "visibility": null,
            "width": null
          }
        },
        "40772dceee894426ac1087a78fa65aab": {
          "model_module": "@jupyter-widgets/controls",
          "model_name": "DescriptionStyleModel",
          "model_module_version": "1.5.0",
          "state": {
            "_model_module": "@jupyter-widgets/controls",
            "_model_module_version": "1.5.0",
            "_model_name": "DescriptionStyleModel",
            "_view_count": null,
            "_view_module": "@jupyter-widgets/base",
            "_view_module_version": "1.2.0",
            "_view_name": "StyleView",
            "description_width": ""
          }
        }
      }
    }
  },
  "nbformat": 4,
  "nbformat_minor": 0
}